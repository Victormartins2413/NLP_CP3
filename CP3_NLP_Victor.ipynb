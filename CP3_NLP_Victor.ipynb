{
  "nbformat": 4,
  "nbformat_minor": 0,
  "metadata": {
    "colab": {
      "provenance": []
    },
    "kernelspec": {
      "name": "python3",
      "display_name": "Python 3"
    },
    "language_info": {
      "name": "python"
    }
  },
  "cells": [
    {
      "cell_type": "markdown",
      "source": [
        "Nome:\n",
        "\n",
        "Victor Hugo de Souza Martins\n",
        "____\n",
        "Turma:\n",
        "\n",
        "2TIAR\n",
        "____\n",
        "RM:\n",
        "\n",
        "99591"
      ],
      "metadata": {
        "id": "o7_kR9oWpW5u"
      }
    },
    {
      "cell_type": "code",
      "source": [
        "import cv2\n",
        "import numpy as np\n",
        "from matplotlib import pyplot as plt\n",
        "\n",
        "# Carregar a imagem da assinatura\n",
        "signature_image_path = \"cnh.webp\"\n",
        "signature_image = cv2.imread(signature_image_path, cv2.IMREAD_GRAYSCALE)\n",
        "\n",
        "# Aplicar limiarização (threshold) para criar uma imagem binária\n",
        "_, binary_signature = cv2.threshold(signature_image, 150, 255, cv2.THRESH_BINARY_INV)\n",
        "\n",
        "# Encontrar contornos\n",
        "contours, _ = cv2.findContours(binary_signature, cv2.RETR_EXTERNAL, cv2.CHAIN_APPROX_SIMPLE)\n",
        "\n",
        "# Criar uma máscara em branco para desenhar a assinatura\n",
        "signature_mask = np.zeros_like(signature_image)\n",
        "\n",
        "# Desenhar o maior contorno (assumindo que é a assinatura)\n",
        "if contours:\n",
        "    largest_contour = max(contours, key=cv2.contourArea)\n",
        "    cv2.drawContours(signature_mask, [largest_contour], -1, 255, thickness=cv2.FILLED)\n",
        "\n",
        "# Salvar a imagem da assinatura extraída\n",
        "extracted_signature_path = \"cnh.webp1.png\"\n",
        "cv2.imwrite(extracted_signature_path, signature_mask)\n",
        "\n",
        "# Mostrar a imagem original e a assinatura extraída\n",
        "plt.figure(figsize=(10, 5))\n",
        "\n",
        "plt.subplot(1, 2, 1)\n",
        "plt.title('Original Signature Image')\n",
        "plt.imshow(signature_image, cmap='gray')\n",
        "\n",
        "plt.subplot(1, 2, 2)\n",
        "plt.title('Extracted Signature')\n",
        "plt.imshow(signature_mask, cmap='gray')\n",
        "\n",
        "plt.show()\n",
        "\n",
        "extracted_signature_path\n"
      ],
      "metadata": {
        "id": "K4I0iOJTzbYP"
      },
      "execution_count": null,
      "outputs": []
    },
    {
      "cell_type": "markdown",
      "source": [
        "Aqui usei os dados da imagem para serem gravados e extraidos para ter uma visualização boa dos dados.\n",
        "___\n",
        "\n",
        "usando a biblioteca OpenCV."
      ],
      "metadata": {
        "id": "eQP87cZVoXxT"
      }
    },
    {
      "cell_type": "code",
      "source": [
        "import easyocr\n",
        "import sqlite3\n",
        "import cv2\n",
        "from google.colab.patches import cv2_imshow\n",
        "\n",
        "# Carregar a imagem\n",
        "image_path = \"cnh.webp\"\n",
        "image = cv2.imread(image_path)\n",
        "\n",
        "# Verificar se a imagem foi carregada corretamente\n",
        "if image is None:\n",
        "    raise FileNotFoundError(f\"Imagem não encontrada: {image_path}\")\n",
        "\n",
        "# Inicializar o leitor OCR do easyocr\n",
        "reader = easyocr.Reader(['pt'])\n",
        "\n",
        "# Realizar a leitura OCR na imagem\n",
        "results = reader.readtext(image_path)\n",
        "\n",
        "# Exibir resultados brutos da OCR para depuração\n",
        "print(\"Resultados brutos da OCR:\")\n",
        "for bbox, text, prob in results:\n",
        "    print(f\"Texto: {text}, Probabilidade: {prob}\")\n",
        "\n",
        "# Função para extrair texto das regiões de interesse (ROIs)\n",
        "def extract_text_from_rois(results):\n",
        "    extracted_data = []\n",
        "    for bbox, text, prob in results:\n",
        "        text = text.strip()\n",
        "        # Debug print para verificar o texto detectado\n",
        "        print(f\"Detectado: {text} com probabilidade {prob}\")\n",
        "        extracted_data.append(text)\n",
        "    return extracted_data\n",
        "\n",
        "# Extrair os dados das ROIs\n",
        "extracted_data = extract_text_from_rois(results)\n",
        "\n",
        "# Printar os dados extraídos\n",
        "print(\"Dados extraídos:\")\n",
        "for text in extracted_data:\n",
        "    print(text)\n",
        "\n",
        "# Verificar se os dados extraídos estão corretos\n",
        "if not extracted_data:\n",
        "    print(\"Nenhum dado foi extraído. Verifique as ROIs e o texto detectado pela OCR.\")\n",
        "else:\n",
        "    # Conectar ao banco de dados SQLite (ou criar se não existir)\n",
        "    db_path = \"document_data.db\"\n",
        "    conn = sqlite3.connect(db_path)\n",
        "    cursor = conn.cursor()\n",
        "\n",
        "    # Criar a tabela para armazenar os dados do documento (se não existir)\n",
        "    cursor.execute('''\n",
        "    CREATE TABLE IF NOT EXISTS documentos (\n",
        "        id INTEGER PRIMARY KEY AUTOINCREMENT,\n",
        "        campo TEXT NOT NULL,\n",
        "        valor TEXT NOT NULL\n",
        "    )\n",
        "    ''')\n",
        "\n",
        "    # Inserir os dados extraídos na tabela\n",
        "    for i, text in enumerate(extracted_data, start=1):\n",
        "        field = f\"Campo_{i}\"\n",
        "        print(f\"Inserindo {field}: {text} no banco de dados\")\n",
        "        cursor.execute('''\n",
        "        INSERT INTO documentos (campo, valor) VALUES (?, ?)\n",
        "        ''', (field, text))\n",
        "\n",
        "    # Salvar as mudanças e fechar a conexão\n",
        "    conn.commit()\n",
        "    conn.close()\n",
        "\n",
        "# Mostrar a imagem processada (opcional)\n",
        "cv2_imshow(image)\n"
      ],
      "metadata": {
        "id": "a3DLhEeSmlLv"
      },
      "execution_count": null,
      "outputs": []
    },
    {
      "cell_type": "markdown",
      "source": [
        "Verificar se os dados foram gravados:"
      ],
      "metadata": {
        "id": "leTNd7ECoAvs"
      }
    },
    {
      "cell_type": "code",
      "source": [
        "import sqlite3\n",
        "\n",
        "# Caminho para o banco de dados SQLite\n",
        "db_path = \"document_data.db\"\n",
        "\n",
        "# Conectar ao banco de dados\n",
        "conn = sqlite3.connect(db_path)\n",
        "cursor = conn.cursor()\n",
        "\n",
        "# Selecionar todos os registros da tabela documentos\n",
        "cursor.execute('SELECT * FROM documentos')\n",
        "\n",
        "# Buscar todos os resultados\n",
        "rows = cursor.fetchall()\n",
        "\n",
        "# Imprimir os dados extraídos\n",
        "print(\"Dados armazenados no banco de dados:\")\n",
        "for row in rows:\n",
        "    id, campo, valor = row\n",
        "    print(f\"ID: {id}, Campo: {campo}, Valor: {valor}\")\n",
        "\n",
        "# Fechar a conexão\n",
        "conn.close()\n"
      ],
      "metadata": {
        "id": "oUXmRAVeoFJc"
      },
      "execution_count": null,
      "outputs": []
    }
  ]
}